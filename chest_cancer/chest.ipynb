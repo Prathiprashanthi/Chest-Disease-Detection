{
  "cells": [
    {
      "cell_type": "code",
      "execution_count": 25,
      "metadata": {
        "colab": {
          "base_uri": "https://localhost:8080/"
        },
        "id": "RKcy61Ycb8ks",
        "outputId": "cb92f21a-d8c1-4a14-b47e-6d629fc91468"
      },
      "outputs": [],
      "source": [
        "# from google.colab import drive\n",
        "# drive.mount('/content/drive/')"
      ]
    },
    {
      "cell_type": "code",
      "execution_count": 26,
      "metadata": {
        "colab": {
          "base_uri": "https://localhost:8080/"
        },
        "id": "ycNZRfmTRuqd",
        "outputId": "ef67b1ca-165e-4256-de90-2ff5cc45cfac"
      },
      "outputs": [],
      "source": [
        "# from google.colab import drive\n",
        "# drive.mount('/content/drive')"
      ]
    },
    {
      "cell_type": "markdown",
      "metadata": {},
      "source": [
        "# dataset link"
      ]
    },
    {
      "cell_type": "markdown",
      "metadata": {},
      "source": [
        "**Link**-->https://www.kaggle.com/datasets/mohamedhanyyy/chest-ctscan-images"
      ]
    },
    {
      "cell_type": "code",
      "execution_count": 27,
      "metadata": {
        "id": "9GB3IW-tRSH4"
      },
      "outputs": [],
      "source": [
        "# from tensorflow.compat.v1 import ConfigProto\n",
        "# from tensorflow.compat.v1 import InteractiveSession\n",
        "\n",
        "# config = ConfigProto()\n",
        "# config.gpu_options.per_process_gpu_memory_fraction = 0.5\n",
        "# config.gpu_options.allow_growth = True\n",
        "# session = InteractiveSession(config=config)"
      ]
    },
    {
      "cell_type": "code",
      "execution_count": 28,
      "metadata": {
        "id": "uuOM8y7SbqSt"
      },
      "outputs": [],
      "source": [
        "# pip install tensorflow"
      ]
    },
    {
      "cell_type": "code",
      "execution_count": 29,
      "metadata": {
        "id": "e7H3cgyKZYGp"
      },
      "outputs": [],
      "source": [
        "# import the libraries as shown below\n",
        "\n",
        "from tensorflow.keras.layers import Input, Lambda, Dense, Flatten\n",
        "from tensorflow.keras.models import Model\n",
        "from tensorflow.keras.applications.inception_v3 import InceptionV3\n",
        "#from keras.applications.vgg16 import VGG16\n",
        "from tensorflow.keras.applications.inception_v3 import preprocess_input\n",
        "from tensorflow.keras.preprocessing import image\n",
        "from tensorflow.keras.preprocessing.image import load_img\n",
        "\n",
        "from tensorflow.keras.preprocessing.image import ImageDataGenerator,load_img\n",
        "from tensorflow.keras.models import Sequential\n",
        "import numpy as np\n",
        "from glob import glob\n",
        "import matplotlib.pyplot as plt"
      ]
    },
    {
      "cell_type": "code",
      "execution_count": 30,
      "metadata": {
        "id": "spkYoYemckDK"
      },
      "outputs": [],
      "source": [
        "dataset_path = \"Data\""
      ]
    },
    {
      "cell_type": "code",
      "execution_count": 31,
      "metadata": {
        "id": "KvZMs6-XjGP2"
      },
      "outputs": [],
      "source": [
        "# path  = r\"dataset\\test\\bad\\apple_bad\\1.jpg\""
      ]
    },
    {
      "cell_type": "code",
      "execution_count": null,
      "metadata": {
        "id": "0_L3ZU12kKK9"
      },
      "outputs": [],
      "source": []
    },
    {
      "cell_type": "code",
      "execution_count": 32,
      "metadata": {
        "id": "-Hgpaoy-fFHk"
      },
      "outputs": [],
      "source": [
        "# import cv2\n",
        "# import numpy as np\n",
        "# import warnings\n",
        "# img = cv2.imread(path)\n",
        "# print(img)"
      ]
    },
    {
      "cell_type": "code",
      "execution_count": 33,
      "metadata": {
        "id": "UvnOMobQZeLb"
      },
      "outputs": [],
      "source": [
        "# # re-size all the images to this\n",
        "# IMAGE_SIZE = [224, 224]\n",
        "\n",
        "# train_path = 'train/'\n",
        "# valid_path = 'val'\n",
        "\n"
      ]
    },
    {
      "cell_type": "code",
      "execution_count": 34,
      "metadata": {
        "id": "Ag9hvUfPh5Wo"
      },
      "outputs": [],
      "source": [
        "# img = cv2.imread(train_path)\n",
        "# print(img)\n",
        "# print()"
      ]
    },
    {
      "cell_type": "code",
      "execution_count": 35,
      "metadata": {
        "id": "iWWggF7efxfI"
      },
      "outputs": [],
      "source": [
        "# re-size all the images to this\n",
        "IMAGE_SIZE = [224, 224]\n",
        "\n",
        "train_path =dataset_path +'/train'\n",
        "valid_path = dataset_path +'/val'\n",
        "test_path = dataset_path + '/test'"
      ]
    },
    {
      "cell_type": "code",
      "execution_count": 36,
      "metadata": {
        "id": "DbmcKwuIZmQE"
      },
      "outputs": [],
      "source": [
        "# Import the Vgg 16 library as shown below and add preprocessing layer to the front of VGG\n",
        "# Here we will be using imagenet weights\n",
        "\n",
        "inception = InceptionV3(input_shape=IMAGE_SIZE + [3], weights='imagenet', include_top=False)\n",
        "\n",
        "\n"
      ]
    },
    {
      "cell_type": "code",
      "execution_count": 37,
      "metadata": {
        "id": "WSHwYfyaZvB2"
      },
      "outputs": [],
      "source": [
        "# don't train existing weights\n",
        "for layer in inception.layers:\n",
        "    layer.trainable = False"
      ]
    },
    {
      "cell_type": "code",
      "execution_count": 38,
      "metadata": {
        "id": "LyYFi9qQZyq0"
      },
      "outputs": [],
      "source": [
        "  # useful for getting number of output classes\n",
        "folders = glob(train_path +'/*')"
      ]
    },
    {
      "cell_type": "code",
      "execution_count": 39,
      "metadata": {
        "id": "GgFZ06K1Z2QV"
      },
      "outputs": [],
      "source": [
        "# our layers - you can add more if you want\n",
        "x = Flatten()(inception.output)"
      ]
    },
    {
      "cell_type": "code",
      "execution_count": 40,
      "metadata": {
        "id": "-HgBHrfKZ7mx"
      },
      "outputs": [],
      "source": [
        "prediction = Dense(len(folders), activation='softmax')(x)\n",
        "\n",
        "# create a model object\n",
        "model = Model(inputs=inception.input, outputs=prediction)"
      ]
    },
    {
      "cell_type": "code",
      "execution_count": 41,
      "metadata": {
        "colab": {
          "base_uri": "https://localhost:8080/"
        },
        "id": "i5XOIz4nZ9W5",
        "outputId": "c3d33ad8-f515-4640-d65a-5747ad42b64c"
      },
      "outputs": [
        {
          "name": "stdout",
          "output_type": "stream",
          "text": [
            "Model: \"model_1\"\n",
            "__________________________________________________________________________________________________\n",
            " Layer (type)                Output Shape                 Param #   Connected to                  \n",
            "==================================================================================================\n",
            " input_2 (InputLayer)        [(None, 224, 224, 3)]        0         []                            \n",
            "                                                                                                  \n",
            " conv2d_94 (Conv2D)          (None, 111, 111, 32)         864       ['input_2[0][0]']             \n",
            "                                                                                                  \n",
            " batch_normalization_94 (Ba  (None, 111, 111, 32)         96        ['conv2d_94[0][0]']           \n",
            " tchNormalization)                                                                                \n",
            "                                                                                                  \n",
            " activation_94 (Activation)  (None, 111, 111, 32)         0         ['batch_normalization_94[0][0]\n",
            "                                                                    ']                            \n",
            "                                                                                                  \n",
            " conv2d_95 (Conv2D)          (None, 109, 109, 32)         9216      ['activation_94[0][0]']       \n",
            "                                                                                                  \n",
            " batch_normalization_95 (Ba  (None, 109, 109, 32)         96        ['conv2d_95[0][0]']           \n",
            " tchNormalization)                                                                                \n",
            "                                                                                                  \n",
            " activation_95 (Activation)  (None, 109, 109, 32)         0         ['batch_normalization_95[0][0]\n",
            "                                                                    ']                            \n",
            "                                                                                                  \n",
            " conv2d_96 (Conv2D)          (None, 109, 109, 64)         18432     ['activation_95[0][0]']       \n",
            "                                                                                                  \n",
            " batch_normalization_96 (Ba  (None, 109, 109, 64)         192       ['conv2d_96[0][0]']           \n",
            " tchNormalization)                                                                                \n",
            "                                                                                                  \n",
            " activation_96 (Activation)  (None, 109, 109, 64)         0         ['batch_normalization_96[0][0]\n",
            "                                                                    ']                            \n",
            "                                                                                                  \n",
            " max_pooling2d_4 (MaxPoolin  (None, 54, 54, 64)           0         ['activation_96[0][0]']       \n",
            " g2D)                                                                                             \n",
            "                                                                                                  \n",
            " conv2d_97 (Conv2D)          (None, 54, 54, 80)           5120      ['max_pooling2d_4[0][0]']     \n",
            "                                                                                                  \n",
            " batch_normalization_97 (Ba  (None, 54, 54, 80)           240       ['conv2d_97[0][0]']           \n",
            " tchNormalization)                                                                                \n",
            "                                                                                                  \n",
            " activation_97 (Activation)  (None, 54, 54, 80)           0         ['batch_normalization_97[0][0]\n",
            "                                                                    ']                            \n",
            "                                                                                                  \n",
            " conv2d_98 (Conv2D)          (None, 52, 52, 192)          138240    ['activation_97[0][0]']       \n",
            "                                                                                                  \n",
            " batch_normalization_98 (Ba  (None, 52, 52, 192)          576       ['conv2d_98[0][0]']           \n",
            " tchNormalization)                                                                                \n",
            "                                                                                                  \n",
            " activation_98 (Activation)  (None, 52, 52, 192)          0         ['batch_normalization_98[0][0]\n",
            "                                                                    ']                            \n",
            "                                                                                                  \n",
            " max_pooling2d_5 (MaxPoolin  (None, 25, 25, 192)          0         ['activation_98[0][0]']       \n",
            " g2D)                                                                                             \n",
            "                                                                                                  \n",
            " conv2d_102 (Conv2D)         (None, 25, 25, 64)           12288     ['max_pooling2d_5[0][0]']     \n",
            "                                                                                                  \n",
            " batch_normalization_102 (B  (None, 25, 25, 64)           192       ['conv2d_102[0][0]']          \n",
            " atchNormalization)                                                                               \n",
            "                                                                                                  \n",
            " activation_102 (Activation  (None, 25, 25, 64)           0         ['batch_normalization_102[0][0\n",
            " )                                                                  ]']                           \n",
            "                                                                                                  \n",
            " conv2d_100 (Conv2D)         (None, 25, 25, 48)           9216      ['max_pooling2d_5[0][0]']     \n",
            "                                                                                                  \n",
            " conv2d_103 (Conv2D)         (None, 25, 25, 96)           55296     ['activation_102[0][0]']      \n",
            "                                                                                                  \n",
            " batch_normalization_100 (B  (None, 25, 25, 48)           144       ['conv2d_100[0][0]']          \n",
            " atchNormalization)                                                                               \n",
            "                                                                                                  \n",
            " batch_normalization_103 (B  (None, 25, 25, 96)           288       ['conv2d_103[0][0]']          \n",
            " atchNormalization)                                                                               \n",
            "                                                                                                  \n",
            " activation_100 (Activation  (None, 25, 25, 48)           0         ['batch_normalization_100[0][0\n",
            " )                                                                  ]']                           \n",
            "                                                                                                  \n",
            " activation_103 (Activation  (None, 25, 25, 96)           0         ['batch_normalization_103[0][0\n",
            " )                                                                  ]']                           \n",
            "                                                                                                  \n",
            " average_pooling2d_9 (Avera  (None, 25, 25, 192)          0         ['max_pooling2d_5[0][0]']     \n",
            " gePooling2D)                                                                                     \n",
            "                                                                                                  \n",
            " conv2d_99 (Conv2D)          (None, 25, 25, 64)           12288     ['max_pooling2d_5[0][0]']     \n",
            "                                                                                                  \n",
            " conv2d_101 (Conv2D)         (None, 25, 25, 64)           76800     ['activation_100[0][0]']      \n",
            "                                                                                                  \n",
            " conv2d_104 (Conv2D)         (None, 25, 25, 96)           82944     ['activation_103[0][0]']      \n",
            "                                                                                                  \n",
            " conv2d_105 (Conv2D)         (None, 25, 25, 32)           6144      ['average_pooling2d_9[0][0]'] \n",
            "                                                                                                  \n",
            " batch_normalization_99 (Ba  (None, 25, 25, 64)           192       ['conv2d_99[0][0]']           \n",
            " tchNormalization)                                                                                \n",
            "                                                                                                  \n",
            " batch_normalization_101 (B  (None, 25, 25, 64)           192       ['conv2d_101[0][0]']          \n",
            " atchNormalization)                                                                               \n",
            "                                                                                                  \n",
            " batch_normalization_104 (B  (None, 25, 25, 96)           288       ['conv2d_104[0][0]']          \n",
            " atchNormalization)                                                                               \n",
            "                                                                                                  \n",
            " batch_normalization_105 (B  (None, 25, 25, 32)           96        ['conv2d_105[0][0]']          \n",
            " atchNormalization)                                                                               \n",
            "                                                                                                  \n",
            " activation_99 (Activation)  (None, 25, 25, 64)           0         ['batch_normalization_99[0][0]\n",
            "                                                                    ']                            \n",
            "                                                                                                  \n",
            " activation_101 (Activation  (None, 25, 25, 64)           0         ['batch_normalization_101[0][0\n",
            " )                                                                  ]']                           \n",
            "                                                                                                  \n",
            " activation_104 (Activation  (None, 25, 25, 96)           0         ['batch_normalization_104[0][0\n",
            " )                                                                  ]']                           \n",
            "                                                                                                  \n",
            " activation_105 (Activation  (None, 25, 25, 32)           0         ['batch_normalization_105[0][0\n",
            " )                                                                  ]']                           \n",
            "                                                                                                  \n",
            " mixed0 (Concatenate)        (None, 25, 25, 256)          0         ['activation_99[0][0]',       \n",
            "                                                                     'activation_101[0][0]',      \n",
            "                                                                     'activation_104[0][0]',      \n",
            "                                                                     'activation_105[0][0]']      \n",
            "                                                                                                  \n",
            " conv2d_109 (Conv2D)         (None, 25, 25, 64)           16384     ['mixed0[0][0]']              \n",
            "                                                                                                  \n",
            " batch_normalization_109 (B  (None, 25, 25, 64)           192       ['conv2d_109[0][0]']          \n",
            " atchNormalization)                                                                               \n",
            "                                                                                                  \n",
            " activation_109 (Activation  (None, 25, 25, 64)           0         ['batch_normalization_109[0][0\n",
            " )                                                                  ]']                           \n",
            "                                                                                                  \n",
            " conv2d_107 (Conv2D)         (None, 25, 25, 48)           12288     ['mixed0[0][0]']              \n",
            "                                                                                                  \n",
            " conv2d_110 (Conv2D)         (None, 25, 25, 96)           55296     ['activation_109[0][0]']      \n",
            "                                                                                                  \n",
            " batch_normalization_107 (B  (None, 25, 25, 48)           144       ['conv2d_107[0][0]']          \n",
            " atchNormalization)                                                                               \n",
            "                                                                                                  \n",
            " batch_normalization_110 (B  (None, 25, 25, 96)           288       ['conv2d_110[0][0]']          \n",
            " atchNormalization)                                                                               \n",
            "                                                                                                  \n",
            " activation_107 (Activation  (None, 25, 25, 48)           0         ['batch_normalization_107[0][0\n",
            " )                                                                  ]']                           \n",
            "                                                                                                  \n",
            " activation_110 (Activation  (None, 25, 25, 96)           0         ['batch_normalization_110[0][0\n",
            " )                                                                  ]']                           \n",
            "                                                                                                  \n",
            " average_pooling2d_10 (Aver  (None, 25, 25, 256)          0         ['mixed0[0][0]']              \n",
            " agePooling2D)                                                                                    \n",
            "                                                                                                  \n",
            " conv2d_106 (Conv2D)         (None, 25, 25, 64)           16384     ['mixed0[0][0]']              \n",
            "                                                                                                  \n",
            " conv2d_108 (Conv2D)         (None, 25, 25, 64)           76800     ['activation_107[0][0]']      \n",
            "                                                                                                  \n",
            " conv2d_111 (Conv2D)         (None, 25, 25, 96)           82944     ['activation_110[0][0]']      \n",
            "                                                                                                  \n",
            " conv2d_112 (Conv2D)         (None, 25, 25, 64)           16384     ['average_pooling2d_10[0][0]']\n",
            "                                                                                                  \n",
            " batch_normalization_106 (B  (None, 25, 25, 64)           192       ['conv2d_106[0][0]']          \n",
            " atchNormalization)                                                                               \n",
            "                                                                                                  \n",
            " batch_normalization_108 (B  (None, 25, 25, 64)           192       ['conv2d_108[0][0]']          \n",
            " atchNormalization)                                                                               \n",
            "                                                                                                  \n",
            " batch_normalization_111 (B  (None, 25, 25, 96)           288       ['conv2d_111[0][0]']          \n",
            " atchNormalization)                                                                               \n",
            "                                                                                                  \n",
            " batch_normalization_112 (B  (None, 25, 25, 64)           192       ['conv2d_112[0][0]']          \n",
            " atchNormalization)                                                                               \n",
            "                                                                                                  \n",
            " activation_106 (Activation  (None, 25, 25, 64)           0         ['batch_normalization_106[0][0\n",
            " )                                                                  ]']                           \n",
            "                                                                                                  \n",
            " activation_108 (Activation  (None, 25, 25, 64)           0         ['batch_normalization_108[0][0\n",
            " )                                                                  ]']                           \n",
            "                                                                                                  \n",
            " activation_111 (Activation  (None, 25, 25, 96)           0         ['batch_normalization_111[0][0\n",
            " )                                                                  ]']                           \n",
            "                                                                                                  \n",
            " activation_112 (Activation  (None, 25, 25, 64)           0         ['batch_normalization_112[0][0\n",
            " )                                                                  ]']                           \n",
            "                                                                                                  \n",
            " mixed1 (Concatenate)        (None, 25, 25, 288)          0         ['activation_106[0][0]',      \n",
            "                                                                     'activation_108[0][0]',      \n",
            "                                                                     'activation_111[0][0]',      \n",
            "                                                                     'activation_112[0][0]']      \n",
            "                                                                                                  \n",
            " conv2d_116 (Conv2D)         (None, 25, 25, 64)           18432     ['mixed1[0][0]']              \n",
            "                                                                                                  \n",
            " batch_normalization_116 (B  (None, 25, 25, 64)           192       ['conv2d_116[0][0]']          \n",
            " atchNormalization)                                                                               \n",
            "                                                                                                  \n",
            " activation_116 (Activation  (None, 25, 25, 64)           0         ['batch_normalization_116[0][0\n",
            " )                                                                  ]']                           \n",
            "                                                                                                  \n",
            " conv2d_114 (Conv2D)         (None, 25, 25, 48)           13824     ['mixed1[0][0]']              \n",
            "                                                                                                  \n",
            " conv2d_117 (Conv2D)         (None, 25, 25, 96)           55296     ['activation_116[0][0]']      \n",
            "                                                                                                  \n",
            " batch_normalization_114 (B  (None, 25, 25, 48)           144       ['conv2d_114[0][0]']          \n",
            " atchNormalization)                                                                               \n",
            "                                                                                                  \n",
            " batch_normalization_117 (B  (None, 25, 25, 96)           288       ['conv2d_117[0][0]']          \n",
            " atchNormalization)                                                                               \n",
            "                                                                                                  \n",
            " activation_114 (Activation  (None, 25, 25, 48)           0         ['batch_normalization_114[0][0\n",
            " )                                                                  ]']                           \n",
            "                                                                                                  \n",
            " activation_117 (Activation  (None, 25, 25, 96)           0         ['batch_normalization_117[0][0\n",
            " )                                                                  ]']                           \n",
            "                                                                                                  \n",
            " average_pooling2d_11 (Aver  (None, 25, 25, 288)          0         ['mixed1[0][0]']              \n",
            " agePooling2D)                                                                                    \n",
            "                                                                                                  \n",
            " conv2d_113 (Conv2D)         (None, 25, 25, 64)           18432     ['mixed1[0][0]']              \n",
            "                                                                                                  \n",
            " conv2d_115 (Conv2D)         (None, 25, 25, 64)           76800     ['activation_114[0][0]']      \n",
            "                                                                                                  \n",
            " conv2d_118 (Conv2D)         (None, 25, 25, 96)           82944     ['activation_117[0][0]']      \n",
            "                                                                                                  \n",
            " conv2d_119 (Conv2D)         (None, 25, 25, 64)           18432     ['average_pooling2d_11[0][0]']\n",
            "                                                                                                  \n",
            " batch_normalization_113 (B  (None, 25, 25, 64)           192       ['conv2d_113[0][0]']          \n",
            " atchNormalization)                                                                               \n",
            "                                                                                                  \n",
            " batch_normalization_115 (B  (None, 25, 25, 64)           192       ['conv2d_115[0][0]']          \n",
            " atchNormalization)                                                                               \n",
            "                                                                                                  \n",
            " batch_normalization_118 (B  (None, 25, 25, 96)           288       ['conv2d_118[0][0]']          \n",
            " atchNormalization)                                                                               \n",
            "                                                                                                  \n",
            " batch_normalization_119 (B  (None, 25, 25, 64)           192       ['conv2d_119[0][0]']          \n",
            " atchNormalization)                                                                               \n",
            "                                                                                                  \n",
            " activation_113 (Activation  (None, 25, 25, 64)           0         ['batch_normalization_113[0][0\n",
            " )                                                                  ]']                           \n",
            "                                                                                                  \n",
            " activation_115 (Activation  (None, 25, 25, 64)           0         ['batch_normalization_115[0][0\n",
            " )                                                                  ]']                           \n",
            "                                                                                                  \n",
            " activation_118 (Activation  (None, 25, 25, 96)           0         ['batch_normalization_118[0][0\n",
            " )                                                                  ]']                           \n",
            "                                                                                                  \n",
            " activation_119 (Activation  (None, 25, 25, 64)           0         ['batch_normalization_119[0][0\n",
            " )                                                                  ]']                           \n",
            "                                                                                                  \n",
            " mixed2 (Concatenate)        (None, 25, 25, 288)          0         ['activation_113[0][0]',      \n",
            "                                                                     'activation_115[0][0]',      \n",
            "                                                                     'activation_118[0][0]',      \n",
            "                                                                     'activation_119[0][0]']      \n",
            "                                                                                                  \n",
            " conv2d_121 (Conv2D)         (None, 25, 25, 64)           18432     ['mixed2[0][0]']              \n",
            "                                                                                                  \n",
            " batch_normalization_121 (B  (None, 25, 25, 64)           192       ['conv2d_121[0][0]']          \n",
            " atchNormalization)                                                                               \n",
            "                                                                                                  \n",
            " activation_121 (Activation  (None, 25, 25, 64)           0         ['batch_normalization_121[0][0\n",
            " )                                                                  ]']                           \n",
            "                                                                                                  \n",
            " conv2d_122 (Conv2D)         (None, 25, 25, 96)           55296     ['activation_121[0][0]']      \n",
            "                                                                                                  \n",
            " batch_normalization_122 (B  (None, 25, 25, 96)           288       ['conv2d_122[0][0]']          \n",
            " atchNormalization)                                                                               \n",
            "                                                                                                  \n",
            " activation_122 (Activation  (None, 25, 25, 96)           0         ['batch_normalization_122[0][0\n",
            " )                                                                  ]']                           \n",
            "                                                                                                  \n",
            " conv2d_120 (Conv2D)         (None, 12, 12, 384)          995328    ['mixed2[0][0]']              \n",
            "                                                                                                  \n",
            " conv2d_123 (Conv2D)         (None, 12, 12, 96)           82944     ['activation_122[0][0]']      \n",
            "                                                                                                  \n",
            " batch_normalization_120 (B  (None, 12, 12, 384)          1152      ['conv2d_120[0][0]']          \n",
            " atchNormalization)                                                                               \n",
            "                                                                                                  \n",
            " batch_normalization_123 (B  (None, 12, 12, 96)           288       ['conv2d_123[0][0]']          \n",
            " atchNormalization)                                                                               \n",
            "                                                                                                  \n",
            " activation_120 (Activation  (None, 12, 12, 384)          0         ['batch_normalization_120[0][0\n",
            " )                                                                  ]']                           \n",
            "                                                                                                  \n",
            " activation_123 (Activation  (None, 12, 12, 96)           0         ['batch_normalization_123[0][0\n",
            " )                                                                  ]']                           \n",
            "                                                                                                  \n",
            " max_pooling2d_6 (MaxPoolin  (None, 12, 12, 288)          0         ['mixed2[0][0]']              \n",
            " g2D)                                                                                             \n",
            "                                                                                                  \n",
            " mixed3 (Concatenate)        (None, 12, 12, 768)          0         ['activation_120[0][0]',      \n",
            "                                                                     'activation_123[0][0]',      \n",
            "                                                                     'max_pooling2d_6[0][0]']     \n",
            "                                                                                                  \n",
            " conv2d_128 (Conv2D)         (None, 12, 12, 128)          98304     ['mixed3[0][0]']              \n",
            "                                                                                                  \n",
            " batch_normalization_128 (B  (None, 12, 12, 128)          384       ['conv2d_128[0][0]']          \n",
            " atchNormalization)                                                                               \n",
            "                                                                                                  \n",
            " activation_128 (Activation  (None, 12, 12, 128)          0         ['batch_normalization_128[0][0\n",
            " )                                                                  ]']                           \n",
            "                                                                                                  \n",
            " conv2d_129 (Conv2D)         (None, 12, 12, 128)          114688    ['activation_128[0][0]']      \n",
            "                                                                                                  \n",
            " batch_normalization_129 (B  (None, 12, 12, 128)          384       ['conv2d_129[0][0]']          \n",
            " atchNormalization)                                                                               \n",
            "                                                                                                  \n",
            " activation_129 (Activation  (None, 12, 12, 128)          0         ['batch_normalization_129[0][0\n",
            " )                                                                  ]']                           \n",
            "                                                                                                  \n",
            " conv2d_125 (Conv2D)         (None, 12, 12, 128)          98304     ['mixed3[0][0]']              \n",
            "                                                                                                  \n",
            " conv2d_130 (Conv2D)         (None, 12, 12, 128)          114688    ['activation_129[0][0]']      \n",
            "                                                                                                  \n",
            " batch_normalization_125 (B  (None, 12, 12, 128)          384       ['conv2d_125[0][0]']          \n",
            " atchNormalization)                                                                               \n",
            "                                                                                                  \n",
            " batch_normalization_130 (B  (None, 12, 12, 128)          384       ['conv2d_130[0][0]']          \n",
            " atchNormalization)                                                                               \n",
            "                                                                                                  \n",
            " activation_125 (Activation  (None, 12, 12, 128)          0         ['batch_normalization_125[0][0\n",
            " )                                                                  ]']                           \n",
            "                                                                                                  \n",
            " activation_130 (Activation  (None, 12, 12, 128)          0         ['batch_normalization_130[0][0\n",
            " )                                                                  ]']                           \n",
            "                                                                                                  \n",
            " conv2d_126 (Conv2D)         (None, 12, 12, 128)          114688    ['activation_125[0][0]']      \n",
            "                                                                                                  \n",
            " conv2d_131 (Conv2D)         (None, 12, 12, 128)          114688    ['activation_130[0][0]']      \n",
            "                                                                                                  \n",
            " batch_normalization_126 (B  (None, 12, 12, 128)          384       ['conv2d_126[0][0]']          \n",
            " atchNormalization)                                                                               \n",
            "                                                                                                  \n",
            " batch_normalization_131 (B  (None, 12, 12, 128)          384       ['conv2d_131[0][0]']          \n",
            " atchNormalization)                                                                               \n",
            "                                                                                                  \n",
            " activation_126 (Activation  (None, 12, 12, 128)          0         ['batch_normalization_126[0][0\n",
            " )                                                                  ]']                           \n",
            "                                                                                                  \n",
            " activation_131 (Activation  (None, 12, 12, 128)          0         ['batch_normalization_131[0][0\n",
            " )                                                                  ]']                           \n",
            "                                                                                                  \n",
            " average_pooling2d_12 (Aver  (None, 12, 12, 768)          0         ['mixed3[0][0]']              \n",
            " agePooling2D)                                                                                    \n",
            "                                                                                                  \n",
            " conv2d_124 (Conv2D)         (None, 12, 12, 192)          147456    ['mixed3[0][0]']              \n",
            "                                                                                                  \n",
            " conv2d_127 (Conv2D)         (None, 12, 12, 192)          172032    ['activation_126[0][0]']      \n",
            "                                                                                                  \n",
            " conv2d_132 (Conv2D)         (None, 12, 12, 192)          172032    ['activation_131[0][0]']      \n",
            "                                                                                                  \n",
            " conv2d_133 (Conv2D)         (None, 12, 12, 192)          147456    ['average_pooling2d_12[0][0]']\n",
            "                                                                                                  \n",
            " batch_normalization_124 (B  (None, 12, 12, 192)          576       ['conv2d_124[0][0]']          \n",
            " atchNormalization)                                                                               \n",
            "                                                                                                  \n",
            " batch_normalization_127 (B  (None, 12, 12, 192)          576       ['conv2d_127[0][0]']          \n",
            " atchNormalization)                                                                               \n",
            "                                                                                                  \n",
            " batch_normalization_132 (B  (None, 12, 12, 192)          576       ['conv2d_132[0][0]']          \n",
            " atchNormalization)                                                                               \n",
            "                                                                                                  \n",
            " batch_normalization_133 (B  (None, 12, 12, 192)          576       ['conv2d_133[0][0]']          \n",
            " atchNormalization)                                                                               \n",
            "                                                                                                  \n",
            " activation_124 (Activation  (None, 12, 12, 192)          0         ['batch_normalization_124[0][0\n",
            " )                                                                  ]']                           \n",
            "                                                                                                  \n",
            " activation_127 (Activation  (None, 12, 12, 192)          0         ['batch_normalization_127[0][0\n",
            " )                                                                  ]']                           \n",
            "                                                                                                  \n",
            " activation_132 (Activation  (None, 12, 12, 192)          0         ['batch_normalization_132[0][0\n",
            " )                                                                  ]']                           \n",
            "                                                                                                  \n",
            " activation_133 (Activation  (None, 12, 12, 192)          0         ['batch_normalization_133[0][0\n",
            " )                                                                  ]']                           \n",
            "                                                                                                  \n",
            " mixed4 (Concatenate)        (None, 12, 12, 768)          0         ['activation_124[0][0]',      \n",
            "                                                                     'activation_127[0][0]',      \n",
            "                                                                     'activation_132[0][0]',      \n",
            "                                                                     'activation_133[0][0]']      \n",
            "                                                                                                  \n",
            " conv2d_138 (Conv2D)         (None, 12, 12, 160)          122880    ['mixed4[0][0]']              \n",
            "                                                                                                  \n",
            " batch_normalization_138 (B  (None, 12, 12, 160)          480       ['conv2d_138[0][0]']          \n",
            " atchNormalization)                                                                               \n",
            "                                                                                                  \n",
            " activation_138 (Activation  (None, 12, 12, 160)          0         ['batch_normalization_138[0][0\n",
            " )                                                                  ]']                           \n",
            "                                                                                                  \n",
            " conv2d_139 (Conv2D)         (None, 12, 12, 160)          179200    ['activation_138[0][0]']      \n",
            "                                                                                                  \n",
            " batch_normalization_139 (B  (None, 12, 12, 160)          480       ['conv2d_139[0][0]']          \n",
            " atchNormalization)                                                                               \n",
            "                                                                                                  \n",
            " activation_139 (Activation  (None, 12, 12, 160)          0         ['batch_normalization_139[0][0\n",
            " )                                                                  ]']                           \n",
            "                                                                                                  \n",
            " conv2d_135 (Conv2D)         (None, 12, 12, 160)          122880    ['mixed4[0][0]']              \n",
            "                                                                                                  \n",
            " conv2d_140 (Conv2D)         (None, 12, 12, 160)          179200    ['activation_139[0][0]']      \n",
            "                                                                                                  \n",
            " batch_normalization_135 (B  (None, 12, 12, 160)          480       ['conv2d_135[0][0]']          \n",
            " atchNormalization)                                                                               \n",
            "                                                                                                  \n",
            " batch_normalization_140 (B  (None, 12, 12, 160)          480       ['conv2d_140[0][0]']          \n",
            " atchNormalization)                                                                               \n",
            "                                                                                                  \n",
            " activation_135 (Activation  (None, 12, 12, 160)          0         ['batch_normalization_135[0][0\n",
            " )                                                                  ]']                           \n",
            "                                                                                                  \n",
            " activation_140 (Activation  (None, 12, 12, 160)          0         ['batch_normalization_140[0][0\n",
            " )                                                                  ]']                           \n",
            "                                                                                                  \n",
            " conv2d_136 (Conv2D)         (None, 12, 12, 160)          179200    ['activation_135[0][0]']      \n",
            "                                                                                                  \n",
            " conv2d_141 (Conv2D)         (None, 12, 12, 160)          179200    ['activation_140[0][0]']      \n",
            "                                                                                                  \n",
            " batch_normalization_136 (B  (None, 12, 12, 160)          480       ['conv2d_136[0][0]']          \n",
            " atchNormalization)                                                                               \n",
            "                                                                                                  \n",
            " batch_normalization_141 (B  (None, 12, 12, 160)          480       ['conv2d_141[0][0]']          \n",
            " atchNormalization)                                                                               \n",
            "                                                                                                  \n",
            " activation_136 (Activation  (None, 12, 12, 160)          0         ['batch_normalization_136[0][0\n",
            " )                                                                  ]']                           \n",
            "                                                                                                  \n",
            " activation_141 (Activation  (None, 12, 12, 160)          0         ['batch_normalization_141[0][0\n",
            " )                                                                  ]']                           \n",
            "                                                                                                  \n",
            " average_pooling2d_13 (Aver  (None, 12, 12, 768)          0         ['mixed4[0][0]']              \n",
            " agePooling2D)                                                                                    \n",
            "                                                                                                  \n",
            " conv2d_134 (Conv2D)         (None, 12, 12, 192)          147456    ['mixed4[0][0]']              \n",
            "                                                                                                  \n",
            " conv2d_137 (Conv2D)         (None, 12, 12, 192)          215040    ['activation_136[0][0]']      \n",
            "                                                                                                  \n",
            " conv2d_142 (Conv2D)         (None, 12, 12, 192)          215040    ['activation_141[0][0]']      \n",
            "                                                                                                  \n",
            " conv2d_143 (Conv2D)         (None, 12, 12, 192)          147456    ['average_pooling2d_13[0][0]']\n",
            "                                                                                                  \n",
            " batch_normalization_134 (B  (None, 12, 12, 192)          576       ['conv2d_134[0][0]']          \n",
            " atchNormalization)                                                                               \n",
            "                                                                                                  \n",
            " batch_normalization_137 (B  (None, 12, 12, 192)          576       ['conv2d_137[0][0]']          \n",
            " atchNormalization)                                                                               \n",
            "                                                                                                  \n",
            " batch_normalization_142 (B  (None, 12, 12, 192)          576       ['conv2d_142[0][0]']          \n",
            " atchNormalization)                                                                               \n",
            "                                                                                                  \n",
            " batch_normalization_143 (B  (None, 12, 12, 192)          576       ['conv2d_143[0][0]']          \n",
            " atchNormalization)                                                                               \n",
            "                                                                                                  \n",
            " activation_134 (Activation  (None, 12, 12, 192)          0         ['batch_normalization_134[0][0\n",
            " )                                                                  ]']                           \n",
            "                                                                                                  \n",
            " activation_137 (Activation  (None, 12, 12, 192)          0         ['batch_normalization_137[0][0\n",
            " )                                                                  ]']                           \n",
            "                                                                                                  \n",
            " activation_142 (Activation  (None, 12, 12, 192)          0         ['batch_normalization_142[0][0\n",
            " )                                                                  ]']                           \n",
            "                                                                                                  \n",
            " activation_143 (Activation  (None, 12, 12, 192)          0         ['batch_normalization_143[0][0\n",
            " )                                                                  ]']                           \n",
            "                                                                                                  \n",
            " mixed5 (Concatenate)        (None, 12, 12, 768)          0         ['activation_134[0][0]',      \n",
            "                                                                     'activation_137[0][0]',      \n",
            "                                                                     'activation_142[0][0]',      \n",
            "                                                                     'activation_143[0][0]']      \n",
            "                                                                                                  \n",
            " conv2d_148 (Conv2D)         (None, 12, 12, 160)          122880    ['mixed5[0][0]']              \n",
            "                                                                                                  \n",
            " batch_normalization_148 (B  (None, 12, 12, 160)          480       ['conv2d_148[0][0]']          \n",
            " atchNormalization)                                                                               \n",
            "                                                                                                  \n",
            " activation_148 (Activation  (None, 12, 12, 160)          0         ['batch_normalization_148[0][0\n",
            " )                                                                  ]']                           \n",
            "                                                                                                  \n",
            " conv2d_149 (Conv2D)         (None, 12, 12, 160)          179200    ['activation_148[0][0]']      \n",
            "                                                                                                  \n",
            " batch_normalization_149 (B  (None, 12, 12, 160)          480       ['conv2d_149[0][0]']          \n",
            " atchNormalization)                                                                               \n",
            "                                                                                                  \n",
            " activation_149 (Activation  (None, 12, 12, 160)          0         ['batch_normalization_149[0][0\n",
            " )                                                                  ]']                           \n",
            "                                                                                                  \n",
            " conv2d_145 (Conv2D)         (None, 12, 12, 160)          122880    ['mixed5[0][0]']              \n",
            "                                                                                                  \n",
            " conv2d_150 (Conv2D)         (None, 12, 12, 160)          179200    ['activation_149[0][0]']      \n",
            "                                                                                                  \n",
            " batch_normalization_145 (B  (None, 12, 12, 160)          480       ['conv2d_145[0][0]']          \n",
            " atchNormalization)                                                                               \n",
            "                                                                                                  \n",
            " batch_normalization_150 (B  (None, 12, 12, 160)          480       ['conv2d_150[0][0]']          \n",
            " atchNormalization)                                                                               \n",
            "                                                                                                  \n",
            " activation_145 (Activation  (None, 12, 12, 160)          0         ['batch_normalization_145[0][0\n",
            " )                                                                  ]']                           \n",
            "                                                                                                  \n",
            " activation_150 (Activation  (None, 12, 12, 160)          0         ['batch_normalization_150[0][0\n",
            " )                                                                  ]']                           \n",
            "                                                                                                  \n",
            " conv2d_146 (Conv2D)         (None, 12, 12, 160)          179200    ['activation_145[0][0]']      \n",
            "                                                                                                  \n",
            " conv2d_151 (Conv2D)         (None, 12, 12, 160)          179200    ['activation_150[0][0]']      \n",
            "                                                                                                  \n",
            " batch_normalization_146 (B  (None, 12, 12, 160)          480       ['conv2d_146[0][0]']          \n",
            " atchNormalization)                                                                               \n",
            "                                                                                                  \n",
            " batch_normalization_151 (B  (None, 12, 12, 160)          480       ['conv2d_151[0][0]']          \n",
            " atchNormalization)                                                                               \n",
            "                                                                                                  \n",
            " activation_146 (Activation  (None, 12, 12, 160)          0         ['batch_normalization_146[0][0\n",
            " )                                                                  ]']                           \n",
            "                                                                                                  \n",
            " activation_151 (Activation  (None, 12, 12, 160)          0         ['batch_normalization_151[0][0\n",
            " )                                                                  ]']                           \n",
            "                                                                                                  \n",
            " average_pooling2d_14 (Aver  (None, 12, 12, 768)          0         ['mixed5[0][0]']              \n",
            " agePooling2D)                                                                                    \n",
            "                                                                                                  \n",
            " conv2d_144 (Conv2D)         (None, 12, 12, 192)          147456    ['mixed5[0][0]']              \n",
            "                                                                                                  \n",
            " conv2d_147 (Conv2D)         (None, 12, 12, 192)          215040    ['activation_146[0][0]']      \n",
            "                                                                                                  \n",
            " conv2d_152 (Conv2D)         (None, 12, 12, 192)          215040    ['activation_151[0][0]']      \n",
            "                                                                                                  \n",
            " conv2d_153 (Conv2D)         (None, 12, 12, 192)          147456    ['average_pooling2d_14[0][0]']\n",
            "                                                                                                  \n",
            " batch_normalization_144 (B  (None, 12, 12, 192)          576       ['conv2d_144[0][0]']          \n",
            " atchNormalization)                                                                               \n",
            "                                                                                                  \n",
            " batch_normalization_147 (B  (None, 12, 12, 192)          576       ['conv2d_147[0][0]']          \n",
            " atchNormalization)                                                                               \n",
            "                                                                                                  \n",
            " batch_normalization_152 (B  (None, 12, 12, 192)          576       ['conv2d_152[0][0]']          \n",
            " atchNormalization)                                                                               \n",
            "                                                                                                  \n",
            " batch_normalization_153 (B  (None, 12, 12, 192)          576       ['conv2d_153[0][0]']          \n",
            " atchNormalization)                                                                               \n",
            "                                                                                                  \n",
            " activation_144 (Activation  (None, 12, 12, 192)          0         ['batch_normalization_144[0][0\n",
            " )                                                                  ]']                           \n",
            "                                                                                                  \n",
            " activation_147 (Activation  (None, 12, 12, 192)          0         ['batch_normalization_147[0][0\n",
            " )                                                                  ]']                           \n",
            "                                                                                                  \n",
            " activation_152 (Activation  (None, 12, 12, 192)          0         ['batch_normalization_152[0][0\n",
            " )                                                                  ]']                           \n",
            "                                                                                                  \n",
            " activation_153 (Activation  (None, 12, 12, 192)          0         ['batch_normalization_153[0][0\n",
            " )                                                                  ]']                           \n",
            "                                                                                                  \n",
            " mixed6 (Concatenate)        (None, 12, 12, 768)          0         ['activation_144[0][0]',      \n",
            "                                                                     'activation_147[0][0]',      \n",
            "                                                                     'activation_152[0][0]',      \n",
            "                                                                     'activation_153[0][0]']      \n",
            "                                                                                                  \n",
            " conv2d_158 (Conv2D)         (None, 12, 12, 192)          147456    ['mixed6[0][0]']              \n",
            "                                                                                                  \n",
            " batch_normalization_158 (B  (None, 12, 12, 192)          576       ['conv2d_158[0][0]']          \n",
            " atchNormalization)                                                                               \n",
            "                                                                                                  \n",
            " activation_158 (Activation  (None, 12, 12, 192)          0         ['batch_normalization_158[0][0\n",
            " )                                                                  ]']                           \n",
            "                                                                                                  \n",
            " conv2d_159 (Conv2D)         (None, 12, 12, 192)          258048    ['activation_158[0][0]']      \n",
            "                                                                                                  \n",
            " batch_normalization_159 (B  (None, 12, 12, 192)          576       ['conv2d_159[0][0]']          \n",
            " atchNormalization)                                                                               \n",
            "                                                                                                  \n",
            " activation_159 (Activation  (None, 12, 12, 192)          0         ['batch_normalization_159[0][0\n",
            " )                                                                  ]']                           \n",
            "                                                                                                  \n",
            " conv2d_155 (Conv2D)         (None, 12, 12, 192)          147456    ['mixed6[0][0]']              \n",
            "                                                                                                  \n",
            " conv2d_160 (Conv2D)         (None, 12, 12, 192)          258048    ['activation_159[0][0]']      \n",
            "                                                                                                  \n",
            " batch_normalization_155 (B  (None, 12, 12, 192)          576       ['conv2d_155[0][0]']          \n",
            " atchNormalization)                                                                               \n",
            "                                                                                                  \n",
            " batch_normalization_160 (B  (None, 12, 12, 192)          576       ['conv2d_160[0][0]']          \n",
            " atchNormalization)                                                                               \n",
            "                                                                                                  \n",
            " activation_155 (Activation  (None, 12, 12, 192)          0         ['batch_normalization_155[0][0\n",
            " )                                                                  ]']                           \n",
            "                                                                                                  \n",
            " activation_160 (Activation  (None, 12, 12, 192)          0         ['batch_normalization_160[0][0\n",
            " )                                                                  ]']                           \n",
            "                                                                                                  \n",
            " conv2d_156 (Conv2D)         (None, 12, 12, 192)          258048    ['activation_155[0][0]']      \n",
            "                                                                                                  \n",
            " conv2d_161 (Conv2D)         (None, 12, 12, 192)          258048    ['activation_160[0][0]']      \n",
            "                                                                                                  \n",
            " batch_normalization_156 (B  (None, 12, 12, 192)          576       ['conv2d_156[0][0]']          \n",
            " atchNormalization)                                                                               \n",
            "                                                                                                  \n",
            " batch_normalization_161 (B  (None, 12, 12, 192)          576       ['conv2d_161[0][0]']          \n",
            " atchNormalization)                                                                               \n",
            "                                                                                                  \n",
            " activation_156 (Activation  (None, 12, 12, 192)          0         ['batch_normalization_156[0][0\n",
            " )                                                                  ]']                           \n",
            "                                                                                                  \n",
            " activation_161 (Activation  (None, 12, 12, 192)          0         ['batch_normalization_161[0][0\n",
            " )                                                                  ]']                           \n",
            "                                                                                                  \n",
            " average_pooling2d_15 (Aver  (None, 12, 12, 768)          0         ['mixed6[0][0]']              \n",
            " agePooling2D)                                                                                    \n",
            "                                                                                                  \n",
            " conv2d_154 (Conv2D)         (None, 12, 12, 192)          147456    ['mixed6[0][0]']              \n",
            "                                                                                                  \n",
            " conv2d_157 (Conv2D)         (None, 12, 12, 192)          258048    ['activation_156[0][0]']      \n",
            "                                                                                                  \n",
            " conv2d_162 (Conv2D)         (None, 12, 12, 192)          258048    ['activation_161[0][0]']      \n",
            "                                                                                                  \n",
            " conv2d_163 (Conv2D)         (None, 12, 12, 192)          147456    ['average_pooling2d_15[0][0]']\n",
            "                                                                                                  \n",
            " batch_normalization_154 (B  (None, 12, 12, 192)          576       ['conv2d_154[0][0]']          \n",
            " atchNormalization)                                                                               \n",
            "                                                                                                  \n",
            " batch_normalization_157 (B  (None, 12, 12, 192)          576       ['conv2d_157[0][0]']          \n",
            " atchNormalization)                                                                               \n",
            "                                                                                                  \n",
            " batch_normalization_162 (B  (None, 12, 12, 192)          576       ['conv2d_162[0][0]']          \n",
            " atchNormalization)                                                                               \n",
            "                                                                                                  \n",
            " batch_normalization_163 (B  (None, 12, 12, 192)          576       ['conv2d_163[0][0]']          \n",
            " atchNormalization)                                                                               \n",
            "                                                                                                  \n",
            " activation_154 (Activation  (None, 12, 12, 192)          0         ['batch_normalization_154[0][0\n",
            " )                                                                  ]']                           \n",
            "                                                                                                  \n",
            " activation_157 (Activation  (None, 12, 12, 192)          0         ['batch_normalization_157[0][0\n",
            " )                                                                  ]']                           \n",
            "                                                                                                  \n",
            " activation_162 (Activation  (None, 12, 12, 192)          0         ['batch_normalization_162[0][0\n",
            " )                                                                  ]']                           \n",
            "                                                                                                  \n",
            " activation_163 (Activation  (None, 12, 12, 192)          0         ['batch_normalization_163[0][0\n",
            " )                                                                  ]']                           \n",
            "                                                                                                  \n",
            " mixed7 (Concatenate)        (None, 12, 12, 768)          0         ['activation_154[0][0]',      \n",
            "                                                                     'activation_157[0][0]',      \n",
            "                                                                     'activation_162[0][0]',      \n",
            "                                                                     'activation_163[0][0]']      \n",
            "                                                                                                  \n",
            " conv2d_166 (Conv2D)         (None, 12, 12, 192)          147456    ['mixed7[0][0]']              \n",
            "                                                                                                  \n",
            " batch_normalization_166 (B  (None, 12, 12, 192)          576       ['conv2d_166[0][0]']          \n",
            " atchNormalization)                                                                               \n",
            "                                                                                                  \n",
            " activation_166 (Activation  (None, 12, 12, 192)          0         ['batch_normalization_166[0][0\n",
            " )                                                                  ]']                           \n",
            "                                                                                                  \n",
            " conv2d_167 (Conv2D)         (None, 12, 12, 192)          258048    ['activation_166[0][0]']      \n",
            "                                                                                                  \n",
            " batch_normalization_167 (B  (None, 12, 12, 192)          576       ['conv2d_167[0][0]']          \n",
            " atchNormalization)                                                                               \n",
            "                                                                                                  \n",
            " activation_167 (Activation  (None, 12, 12, 192)          0         ['batch_normalization_167[0][0\n",
            " )                                                                  ]']                           \n",
            "                                                                                                  \n",
            " conv2d_164 (Conv2D)         (None, 12, 12, 192)          147456    ['mixed7[0][0]']              \n",
            "                                                                                                  \n",
            " conv2d_168 (Conv2D)         (None, 12, 12, 192)          258048    ['activation_167[0][0]']      \n",
            "                                                                                                  \n",
            " batch_normalization_164 (B  (None, 12, 12, 192)          576       ['conv2d_164[0][0]']          \n",
            " atchNormalization)                                                                               \n",
            "                                                                                                  \n",
            " batch_normalization_168 (B  (None, 12, 12, 192)          576       ['conv2d_168[0][0]']          \n",
            " atchNormalization)                                                                               \n",
            "                                                                                                  \n",
            " activation_164 (Activation  (None, 12, 12, 192)          0         ['batch_normalization_164[0][0\n",
            " )                                                                  ]']                           \n",
            "                                                                                                  \n",
            " activation_168 (Activation  (None, 12, 12, 192)          0         ['batch_normalization_168[0][0\n",
            " )                                                                  ]']                           \n",
            "                                                                                                  \n",
            " conv2d_165 (Conv2D)         (None, 5, 5, 320)            552960    ['activation_164[0][0]']      \n",
            "                                                                                                  \n",
            " conv2d_169 (Conv2D)         (None, 5, 5, 192)            331776    ['activation_168[0][0]']      \n",
            "                                                                                                  \n",
            " batch_normalization_165 (B  (None, 5, 5, 320)            960       ['conv2d_165[0][0]']          \n",
            " atchNormalization)                                                                               \n",
            "                                                                                                  \n",
            " batch_normalization_169 (B  (None, 5, 5, 192)            576       ['conv2d_169[0][0]']          \n",
            " atchNormalization)                                                                               \n",
            "                                                                                                  \n",
            " activation_165 (Activation  (None, 5, 5, 320)            0         ['batch_normalization_165[0][0\n",
            " )                                                                  ]']                           \n",
            "                                                                                                  \n",
            " activation_169 (Activation  (None, 5, 5, 192)            0         ['batch_normalization_169[0][0\n",
            " )                                                                  ]']                           \n",
            "                                                                                                  \n",
            " max_pooling2d_7 (MaxPoolin  (None, 5, 5, 768)            0         ['mixed7[0][0]']              \n",
            " g2D)                                                                                             \n",
            "                                                                                                  \n",
            " mixed8 (Concatenate)        (None, 5, 5, 1280)           0         ['activation_165[0][0]',      \n",
            "                                                                     'activation_169[0][0]',      \n",
            "                                                                     'max_pooling2d_7[0][0]']     \n",
            "                                                                                                  \n",
            " conv2d_174 (Conv2D)         (None, 5, 5, 448)            573440    ['mixed8[0][0]']              \n",
            "                                                                                                  \n",
            " batch_normalization_174 (B  (None, 5, 5, 448)            1344      ['conv2d_174[0][0]']          \n",
            " atchNormalization)                                                                               \n",
            "                                                                                                  \n",
            " activation_174 (Activation  (None, 5, 5, 448)            0         ['batch_normalization_174[0][0\n",
            " )                                                                  ]']                           \n",
            "                                                                                                  \n",
            " conv2d_171 (Conv2D)         (None, 5, 5, 384)            491520    ['mixed8[0][0]']              \n",
            "                                                                                                  \n",
            " conv2d_175 (Conv2D)         (None, 5, 5, 384)            1548288   ['activation_174[0][0]']      \n",
            "                                                                                                  \n",
            " batch_normalization_171 (B  (None, 5, 5, 384)            1152      ['conv2d_171[0][0]']          \n",
            " atchNormalization)                                                                               \n",
            "                                                                                                  \n",
            " batch_normalization_175 (B  (None, 5, 5, 384)            1152      ['conv2d_175[0][0]']          \n",
            " atchNormalization)                                                                               \n",
            "                                                                                                  \n",
            " activation_171 (Activation  (None, 5, 5, 384)            0         ['batch_normalization_171[0][0\n",
            " )                                                                  ]']                           \n",
            "                                                                                                  \n",
            " activation_175 (Activation  (None, 5, 5, 384)            0         ['batch_normalization_175[0][0\n",
            " )                                                                  ]']                           \n",
            "                                                                                                  \n",
            " conv2d_172 (Conv2D)         (None, 5, 5, 384)            442368    ['activation_171[0][0]']      \n",
            "                                                                                                  \n",
            " conv2d_173 (Conv2D)         (None, 5, 5, 384)            442368    ['activation_171[0][0]']      \n",
            "                                                                                                  \n",
            " conv2d_176 (Conv2D)         (None, 5, 5, 384)            442368    ['activation_175[0][0]']      \n",
            "                                                                                                  \n",
            " conv2d_177 (Conv2D)         (None, 5, 5, 384)            442368    ['activation_175[0][0]']      \n",
            "                                                                                                  \n",
            " average_pooling2d_16 (Aver  (None, 5, 5, 1280)           0         ['mixed8[0][0]']              \n",
            " agePooling2D)                                                                                    \n",
            "                                                                                                  \n",
            " conv2d_170 (Conv2D)         (None, 5, 5, 320)            409600    ['mixed8[0][0]']              \n",
            "                                                                                                  \n",
            " batch_normalization_172 (B  (None, 5, 5, 384)            1152      ['conv2d_172[0][0]']          \n",
            " atchNormalization)                                                                               \n",
            "                                                                                                  \n",
            " batch_normalization_173 (B  (None, 5, 5, 384)            1152      ['conv2d_173[0][0]']          \n",
            " atchNormalization)                                                                               \n",
            "                                                                                                  \n",
            " batch_normalization_176 (B  (None, 5, 5, 384)            1152      ['conv2d_176[0][0]']          \n",
            " atchNormalization)                                                                               \n",
            "                                                                                                  \n",
            " batch_normalization_177 (B  (None, 5, 5, 384)            1152      ['conv2d_177[0][0]']          \n",
            " atchNormalization)                                                                               \n",
            "                                                                                                  \n",
            " conv2d_178 (Conv2D)         (None, 5, 5, 192)            245760    ['average_pooling2d_16[0][0]']\n",
            "                                                                                                  \n",
            " batch_normalization_170 (B  (None, 5, 5, 320)            960       ['conv2d_170[0][0]']          \n",
            " atchNormalization)                                                                               \n",
            "                                                                                                  \n",
            " activation_172 (Activation  (None, 5, 5, 384)            0         ['batch_normalization_172[0][0\n",
            " )                                                                  ]']                           \n",
            "                                                                                                  \n",
            " activation_173 (Activation  (None, 5, 5, 384)            0         ['batch_normalization_173[0][0\n",
            " )                                                                  ]']                           \n",
            "                                                                                                  \n",
            " activation_176 (Activation  (None, 5, 5, 384)            0         ['batch_normalization_176[0][0\n",
            " )                                                                  ]']                           \n",
            "                                                                                                  \n",
            " activation_177 (Activation  (None, 5, 5, 384)            0         ['batch_normalization_177[0][0\n",
            " )                                                                  ]']                           \n",
            "                                                                                                  \n",
            " batch_normalization_178 (B  (None, 5, 5, 192)            576       ['conv2d_178[0][0]']          \n",
            " atchNormalization)                                                                               \n",
            "                                                                                                  \n",
            " activation_170 (Activation  (None, 5, 5, 320)            0         ['batch_normalization_170[0][0\n",
            " )                                                                  ]']                           \n",
            "                                                                                                  \n",
            " mixed9_0 (Concatenate)      (None, 5, 5, 768)            0         ['activation_172[0][0]',      \n",
            "                                                                     'activation_173[0][0]']      \n",
            "                                                                                                  \n",
            " concatenate_2 (Concatenate  (None, 5, 5, 768)            0         ['activation_176[0][0]',      \n",
            " )                                                                   'activation_177[0][0]']      \n",
            "                                                                                                  \n",
            " activation_178 (Activation  (None, 5, 5, 192)            0         ['batch_normalization_178[0][0\n",
            " )                                                                  ]']                           \n",
            "                                                                                                  \n",
            " mixed9 (Concatenate)        (None, 5, 5, 2048)           0         ['activation_170[0][0]',      \n",
            "                                                                     'mixed9_0[0][0]',            \n",
            "                                                                     'concatenate_2[0][0]',       \n",
            "                                                                     'activation_178[0][0]']      \n",
            "                                                                                                  \n",
            " conv2d_183 (Conv2D)         (None, 5, 5, 448)            917504    ['mixed9[0][0]']              \n",
            "                                                                                                  \n",
            " batch_normalization_183 (B  (None, 5, 5, 448)            1344      ['conv2d_183[0][0]']          \n",
            " atchNormalization)                                                                               \n",
            "                                                                                                  \n",
            " activation_183 (Activation  (None, 5, 5, 448)            0         ['batch_normalization_183[0][0\n",
            " )                                                                  ]']                           \n",
            "                                                                                                  \n",
            " conv2d_180 (Conv2D)         (None, 5, 5, 384)            786432    ['mixed9[0][0]']              \n",
            "                                                                                                  \n",
            " conv2d_184 (Conv2D)         (None, 5, 5, 384)            1548288   ['activation_183[0][0]']      \n",
            "                                                                                                  \n",
            " batch_normalization_180 (B  (None, 5, 5, 384)            1152      ['conv2d_180[0][0]']          \n",
            " atchNormalization)                                                                               \n",
            "                                                                                                  \n",
            " batch_normalization_184 (B  (None, 5, 5, 384)            1152      ['conv2d_184[0][0]']          \n",
            " atchNormalization)                                                                               \n",
            "                                                                                                  \n",
            " activation_180 (Activation  (None, 5, 5, 384)            0         ['batch_normalization_180[0][0\n",
            " )                                                                  ]']                           \n",
            "                                                                                                  \n",
            " activation_184 (Activation  (None, 5, 5, 384)            0         ['batch_normalization_184[0][0\n",
            " )                                                                  ]']                           \n",
            "                                                                                                  \n",
            " conv2d_181 (Conv2D)         (None, 5, 5, 384)            442368    ['activation_180[0][0]']      \n",
            "                                                                                                  \n",
            " conv2d_182 (Conv2D)         (None, 5, 5, 384)            442368    ['activation_180[0][0]']      \n",
            "                                                                                                  \n",
            " conv2d_185 (Conv2D)         (None, 5, 5, 384)            442368    ['activation_184[0][0]']      \n",
            "                                                                                                  \n",
            " conv2d_186 (Conv2D)         (None, 5, 5, 384)            442368    ['activation_184[0][0]']      \n",
            "                                                                                                  \n",
            " average_pooling2d_17 (Aver  (None, 5, 5, 2048)           0         ['mixed9[0][0]']              \n",
            " agePooling2D)                                                                                    \n",
            "                                                                                                  \n",
            " conv2d_179 (Conv2D)         (None, 5, 5, 320)            655360    ['mixed9[0][0]']              \n",
            "                                                                                                  \n",
            " batch_normalization_181 (B  (None, 5, 5, 384)            1152      ['conv2d_181[0][0]']          \n",
            " atchNormalization)                                                                               \n",
            "                                                                                                  \n",
            " batch_normalization_182 (B  (None, 5, 5, 384)            1152      ['conv2d_182[0][0]']          \n",
            " atchNormalization)                                                                               \n",
            "                                                                                                  \n",
            " batch_normalization_185 (B  (None, 5, 5, 384)            1152      ['conv2d_185[0][0]']          \n",
            " atchNormalization)                                                                               \n",
            "                                                                                                  \n",
            " batch_normalization_186 (B  (None, 5, 5, 384)            1152      ['conv2d_186[0][0]']          \n",
            " atchNormalization)                                                                               \n",
            "                                                                                                  \n",
            " conv2d_187 (Conv2D)         (None, 5, 5, 192)            393216    ['average_pooling2d_17[0][0]']\n",
            "                                                                                                  \n",
            " batch_normalization_179 (B  (None, 5, 5, 320)            960       ['conv2d_179[0][0]']          \n",
            " atchNormalization)                                                                               \n",
            "                                                                                                  \n",
            " activation_181 (Activation  (None, 5, 5, 384)            0         ['batch_normalization_181[0][0\n",
            " )                                                                  ]']                           \n",
            "                                                                                                  \n",
            " activation_182 (Activation  (None, 5, 5, 384)            0         ['batch_normalization_182[0][0\n",
            " )                                                                  ]']                           \n",
            "                                                                                                  \n",
            " activation_185 (Activation  (None, 5, 5, 384)            0         ['batch_normalization_185[0][0\n",
            " )                                                                  ]']                           \n",
            "                                                                                                  \n",
            " activation_186 (Activation  (None, 5, 5, 384)            0         ['batch_normalization_186[0][0\n",
            " )                                                                  ]']                           \n",
            "                                                                                                  \n",
            " batch_normalization_187 (B  (None, 5, 5, 192)            576       ['conv2d_187[0][0]']          \n",
            " atchNormalization)                                                                               \n",
            "                                                                                                  \n",
            " activation_179 (Activation  (None, 5, 5, 320)            0         ['batch_normalization_179[0][0\n",
            " )                                                                  ]']                           \n",
            "                                                                                                  \n",
            " mixed9_1 (Concatenate)      (None, 5, 5, 768)            0         ['activation_181[0][0]',      \n",
            "                                                                     'activation_182[0][0]']      \n",
            "                                                                                                  \n",
            " concatenate_3 (Concatenate  (None, 5, 5, 768)            0         ['activation_185[0][0]',      \n",
            " )                                                                   'activation_186[0][0]']      \n",
            "                                                                                                  \n",
            " activation_187 (Activation  (None, 5, 5, 192)            0         ['batch_normalization_187[0][0\n",
            " )                                                                  ]']                           \n",
            "                                                                                                  \n",
            " mixed10 (Concatenate)       (None, 5, 5, 2048)           0         ['activation_179[0][0]',      \n",
            "                                                                     'mixed9_1[0][0]',            \n",
            "                                                                     'concatenate_3[0][0]',       \n",
            "                                                                     'activation_187[0][0]']      \n",
            "                                                                                                  \n",
            " flatten_1 (Flatten)         (None, 51200)                0         ['mixed10[0][0]']             \n",
            "                                                                                                  \n",
            " dense_1 (Dense)             (None, 4)                    204804    ['flatten_1[0][0]']           \n",
            "                                                                                                  \n",
            "==================================================================================================\n",
            "Total params: 22007588 (83.95 MB)\n",
            "Trainable params: 204804 (800.02 KB)\n",
            "Non-trainable params: 21802784 (83.17 MB)\n",
            "__________________________________________________________________________________________________\n"
          ]
        }
      ],
      "source": [
        "\n",
        "# view the structure of the model\n",
        "model.summary()\n"
      ]
    },
    {
      "cell_type": "code",
      "execution_count": 42,
      "metadata": {
        "id": "WYRyZEG_aCe7"
      },
      "outputs": [],
      "source": [
        "# tell the model what cost and optimization method to use\n",
        "model.compile(\n",
        "  loss='categorical_crossentropy',\n",
        "  optimizer='adam',\n",
        "  metrics=['accuracy']\n",
        ")\n"
      ]
    },
    {
      "cell_type": "code",
      "execution_count": 43,
      "metadata": {
        "id": "y0UivG-uaH_M"
      },
      "outputs": [],
      "source": [
        "# Use the Image Data Generator to import the images from the dataset\n",
        "from tensorflow.keras.preprocessing.image import ImageDataGenerator\n",
        "\n",
        "train_datagen = ImageDataGenerator(rescale = 1./255,\n",
        "                                   shear_range = 0.2,\n",
        "                                   zoom_range = 0.2,\n",
        "                                   horizontal_flip = True)\n",
        "\n",
        "val_datagen = ImageDataGenerator(rescale = 1./255)\n",
        "\n",
        "\n",
        "test_datagen = ImageDataGenerator(rescale = 1./255,\n",
        "                                   shear_range = 0.2,\n",
        "                                   zoom_range = 0.2,\n",
        "                                   horizontal_flip = True)"
      ]
    },
    {
      "cell_type": "code",
      "execution_count": 44,
      "metadata": {
        "colab": {
          "base_uri": "https://localhost:8080/"
        },
        "id": "X-gzlG1laM7V",
        "outputId": "a25d4876-9011-4ab6-bb79-9b96b32bfccb"
      },
      "outputs": [
        {
          "name": "stdout",
          "output_type": "stream",
          "text": [
            "Found 613 images belonging to 4 classes.\n"
          ]
        }
      ],
      "source": [
        "# Make sure you provide the same target size as initialied for the image size\n",
        "train_set = train_datagen.flow_from_directory(train_path,\n",
        "                                                 target_size = (224, 224),\n",
        "                                                 batch_size = 32,\n",
        "                                                 class_mode = 'categorical')"
      ]
    },
    {
      "cell_type": "code",
      "execution_count": 45,
      "metadata": {},
      "outputs": [
        {
          "name": "stdout",
          "output_type": "stream",
          "text": [
            "Found 315 images belonging to 4 classes.\n"
          ]
        }
      ],
      "source": [
        "val_set = val_datagen.flow_from_directory(valid_path,\n",
        "                                            target_size = (224, 224),\n",
        "                                            batch_size = 32,\n",
        "                                            class_mode = 'categorical')"
      ]
    },
    {
      "cell_type": "code",
      "execution_count": 46,
      "metadata": {
        "id": "neLj4HSWWHwC"
      },
      "outputs": [
        {
          "name": "stdout",
          "output_type": "stream",
          "text": [
            "Found 72 images belonging to 4 classes.\n"
          ]
        }
      ],
      "source": [
        "test_set = test_datagen.flow_from_directory(test_path,\n",
        "                                            target_size = (224, 224),\n",
        "                                            batch_size = 32,\n",
        "                                            class_mode = 'categorical')"
      ]
    },
    {
      "cell_type": "code",
      "execution_count": 47,
      "metadata": {
        "colab": {
          "base_uri": "https://localhost:8080/"
        },
        "id": "oW66SYCbaW66",
        "outputId": "ebcd111f-2ab5-47be-b354-dfd701ecf06a"
      },
      "outputs": [
        {
          "name": "stderr",
          "output_type": "stream",
          "text": [
            "C:\\Users\\deepp\\AppData\\Local\\Temp\\ipykernel_20936\\2583480383.py:8: UserWarning: `Model.fit_generator` is deprecated and will be removed in a future version. Please use `Model.fit`, which supports generators.\n",
            "  r = model.fit_generator(\n"
          ]
        },
        {
          "name": "stdout",
          "output_type": "stream",
          "text": [
            "Epoch 1/10\n",
            "20/20 [==============================] - 66s 3s/step - loss: 9.2773 - accuracy: 0.3850 - val_loss: 3.3987 - val_accuracy: 0.4952\n",
            "Epoch 2/10\n",
            "20/20 [==============================] - 49s 2s/step - loss: 2.4250 - accuracy: 0.6558 - val_loss: 2.7949 - val_accuracy: 0.5397\n",
            "Epoch 3/10\n",
            "20/20 [==============================] - 48s 2s/step - loss: 0.9110 - accuracy: 0.7961 - val_loss: 1.8960 - val_accuracy: 0.6222\n",
            "Epoch 4/10\n",
            "20/20 [==============================] - 60s 3s/step - loss: 0.5499 - accuracy: 0.8499 - val_loss: 1.5841 - val_accuracy: 0.6444\n",
            "Epoch 5/10\n",
            "20/20 [==============================] - 60s 3s/step - loss: 0.5447 - accuracy: 0.8483 - val_loss: 2.1052 - val_accuracy: 0.6571\n",
            "Epoch 6/10\n",
            "20/20 [==============================] - 64s 3s/step - loss: 0.7696 - accuracy: 0.8189 - val_loss: 2.5446 - val_accuracy: 0.5905\n",
            "Epoch 7/10\n",
            "20/20 [==============================] - 62s 3s/step - loss: 0.6939 - accuracy: 0.8418 - val_loss: 1.9040 - val_accuracy: 0.6730\n",
            "Epoch 8/10\n",
            "20/20 [==============================] - 62s 3s/step - loss: 0.3624 - accuracy: 0.8972 - val_loss: 1.6261 - val_accuracy: 0.6952\n",
            "Epoch 9/10\n",
            "20/20 [==============================] - 58s 3s/step - loss: 0.2259 - accuracy: 0.9299 - val_loss: 1.2488 - val_accuracy: 0.7460\n",
            "Epoch 10/10\n",
            "20/20 [==============================] - 57s 3s/step - loss: 0.1426 - accuracy: 0.9462 - val_loss: 1.7420 - val_accuracy: 0.6984\n"
          ]
        }
      ],
      "source": [
        "# fit the model\n",
        "# Run the cell. It will take some time to execute\n",
        "from PIL import Image\n",
        "from tensorflow.keras.preprocessing.image import load_img\n",
        "import scipy\n",
        "\n",
        "\n",
        "r = model.fit_generator(\n",
        "  train_set,\n",
        "  validation_data=val_set,\n",
        "  epochs=10,\n",
        "  steps_per_epoch=len(train_set),\n",
        "  validation_steps=len(val_set)\n",
        ")"
      ]
    },
    {
      "cell_type": "code",
      "execution_count": null,
      "metadata": {},
      "outputs": [],
      "source": []
    },
    {
      "cell_type": "code",
      "execution_count": 48,
      "metadata": {
        "colab": {
          "base_uri": "https://localhost:8080/",
          "height": 864
        },
        "id": "Ep5zVCEcaaWu",
        "outputId": "2c84021a-d0f1-41b8-d54e-213e7938fca4"
      },
      "outputs": [
        {
          "data": {
            "image/png": "[encoded data removed]",
            "text/plain": [
              "<Figure size 640x480 with 1 Axes>"
            ]
          },
          "metadata": {},
          "output_type": "display_data"
        },
        {
          "data": {
            "image/png": "[encoded data removed]",
            "text/plain": [
              "<Figure size 640x480 with 1 Axes>"
            ]
          },
          "metadata": {},
          "output_type": "display_data"
        },
        {
          "data": {
            "text/plain": [
              "<Figure size 640x480 with 0 Axes>"
            ]
          },
          "metadata": {},
          "output_type": "display_data"
        }
      ],
      "source": [
        "# plot the loss\n",
        "plt.plot(r.history['loss'], label='train loss')\n",
        "plt.plot(r.history['val_loss'], label='val loss')\n",
        "plt.legend()\n",
        "plt.show()\n",
        "plt.savefig('LossVal_loss')\n",
        "\n",
        "# plot the accuracy\n",
        "plt.plot(r.history['accuracy'], label='train acc')\n",
        "plt.plot(r.history['val_accuracy'], label='val acc')\n",
        "plt.legend()\n",
        "plt.show()\n",
        "plt.savefig('AccVal_acc')"
      ]
    },
    {
      "cell_type": "code",
      "execution_count": 49,
      "metadata": {},
      "outputs": [
        {
          "name": "stdout",
          "output_type": "stream",
          "text": [
            "Final Training Accuracy: 0.9461663961410522\n",
            "Final Validation Accuracy: 0.6984127163887024\n"
          ]
        }
      ],
      "source": [
        "\n",
        "# Print the final training and validation accuracy\n",
        "final_train_accuracy = r.history['accuracy'][-1]\n",
        "final_val_accuracy = r.history['val_accuracy'][-1]\n",
        "\n",
        "print(\"Final Training Accuracy:\", final_train_accuracy)\n",
        "print(\"Final Validation Accuracy:\", final_val_accuracy)"
      ]
    },
    {
      "cell_type": "code",
      "execution_count": 50,
      "metadata": {
        "id": "Yslgcuqyagzp"
      },
      "outputs": [
        {
          "name": "stderr",
          "output_type": "stream",
          "text": [
            "d:\\Codebook\\fruit_quality_prediction\\fruit\\lib\\site-packages\\keras\\src\\engine\\training.py:3000: UserWarning: You are saving your model as an HDF5 file via `model.save()`. This file format is considered legacy. We recommend using instead the native Keras format, e.g. `model.save('my_model.keras')`.\n",
            "  saving_api.save_model(\n"
          ]
        }
      ],
      "source": [
        "# save it as a h5 file in inversion v3 model\n",
        "\n",
        "\n",
        "from tensorflow.keras.models import load_model\n",
        "\n",
        "model.save('model_chest.h5')"
      ]
    },
    {
      "cell_type": "code",
      "execution_count": 51,
      "metadata": {
        "id": "axSuwuvIaxHA"
      },
      "outputs": [],
      "source": [
        "#load the model\n",
        "import numpy as np\n",
        "from tensorflow.keras.models import load_model\n",
        "from tensorflow.keras.preprocessing import image\n",
        "from tensorflow.keras.applications.inception_v3 import preprocess_input\n"
      ]
    },
    {
      "cell_type": "code",
      "execution_count": 52,
      "metadata": {
        "id": "tzJzY5aEa2iy"
      },
      "outputs": [],
      "source": [
        "model=load_model('model_chest.h5')\n",
        "\n",
        "# img=image.load_img(\"/content/drive/MyDrive/notebook/dataset/test/Potato___Early_blight/fa8656fd-03b1-467c-a877-99ce5632d580___RS_Early.B 7630.JPG\")\n"
      ]
    },
    {
      "cell_type": "code",
      "execution_count": 53,
      "metadata": {
        "id": "Q8CacyF2eQrx"
      },
      "outputs": [],
      "source": [
        "ref = dict(zip(list(train_set.class_indices.values()),list(train_set.class_indices.keys())))"
      ]
    },
    {
      "cell_type": "code",
      "execution_count": 54,
      "metadata": {
        "id": "uMElzocnW28c"
      },
      "outputs": [],
      "source": [
        "# def prediction(path):\n",
        "#   img = image.load_img(path, target_size=(224, 224))\n",
        "#   i = image.img_to_array(img)\n",
        "#   i = np.expand_dims(i, axis=0)\n",
        "#   img = preprocess_input(i)\n",
        "#   pred = np.argmax(model.predict(img), axis=1)\n",
        "#   print(f\"the image belongs to {ref[pred]}\")"
      ]
    },
    {
      "cell_type": "code",
      "execution_count": 55,
      "metadata": {
        "colab": {
          "base_uri": "https://localhost:8080/",
          "height": 287
        },
        "id": "-sbL0sADW2-m",
        "outputId": "995b00b0-c335-459a-8e08-8e00d5a50206"
      },
      "outputs": [],
      "source": [
        "# path = r\"dataset\\test\\bad\\banana_bad\\3.jpg\"\n",
        "# prediction(path)"
      ]
    },
    {
      "cell_type": "code",
      "execution_count": 56,
      "metadata": {
        "colab": {
          "base_uri": "https://localhost:8080/"
        },
        "id": "CdRD-lpiW3Co",
        "outputId": "8e43033d-ea9d-43fc-c67d-72399446bd8c"
      },
      "outputs": [
        {
          "data": {
            "text/plain": [
              "{'adenocarcinoma': 0,\n",
              " 'large.cell.carcinoma': 1,\n",
              " 'normal': 2,\n",
              " 'squamous.cell.carcinoma': 3}"
            ]
          },
          "execution_count": 56,
          "metadata": {},
          "output_type": "execute_result"
        }
      ],
      "source": [
        "train_set.class_indices"
      ]
    },
    {
      "cell_type": "code",
      "execution_count": 148,
      "metadata": {
        "colab": {
          "base_uri": "https://localhost:8080/"
        },
        "id": "PrVyRU9HAxyo",
        "outputId": "cf2d57d4-6ade-45ea-f361-b91d45554acf"
      },
      "outputs": [
        {
          "name": "stdout",
          "output_type": "stream",
          "text": [
            "1/1 [==============================] - 0s 93ms/step\n",
            "the image belongs to large.cell.carcinoma\n"
          ]
        }
      ],
      "source": [
        "def prediction(path):\n",
        "  img = image.load_img(path, target_size=(224, 224))\n",
        "  i = image.img_to_array(img)\n",
        "  i = np.expand_dims(i, axis=0)\n",
        "  img = preprocess_input(i)\n",
        "  pred = np.argmax(model.predict(img), axis=1)\n",
        "  print(f\"the image belongs to {ref[pred[0]]}\")\n",
        "\n",
        "path = r\"Data\\test\\large.cell.carcinoma\\000118 (2).png\"\n",
        "prediction(path)\n",
        "\n",
        "# chest\\Data\\test\\adenocarcinoma\\000108 (8).png\n",
        "# chest\\Data\\test\\adenocarcinoma\\000114 (10).png\n",
        "# chest\\Data\\test\\adenocarcinoma\\000115 (9).png\n",
        "# chest\\Data\\test\\adenocarcinoma\\000117 (6).png\n",
        "\n",
        "\n",
        "\n"
      ]
    },
    {
      "cell_type": "code",
      "execution_count": null,
      "metadata": {},
      "outputs": [],
      "source": []
    },
    {
      "cell_type": "markdown",
      "metadata": {},
      "source": [
        "# prediction as input image"
      ]
    },
    {
      "cell_type": "code",
      "execution_count": null,
      "metadata": {},
      "outputs": [],
      "source": [
        "#load the model\n",
        "import numpy as np\n",
        "from tensorflow.keras.models import load_model\n",
        "from tensorflow.keras.preprocessing import image\n",
        "from tensorflow.keras.applications.inception_v3 import preprocess_input\n"
      ]
    },
    {
      "cell_type": "code",
      "execution_count": null,
      "metadata": {},
      "outputs": [],
      "source": [
        "# load the model\n",
        "model=load_model(r\"model_alzheimer.h5\")\n"
      ]
    },
    {
      "cell_type": "code",
      "execution_count": null,
      "metadata": {},
      "outputs": [
        {
          "name": "stdout",
          "output_type": "stream",
          "text": [
            "1/1 [==============================] - 2s 2s/step\n",
            "the image belongs to [1]\n"
          ]
        }
      ],
      "source": [
        "def prediction(path):\n",
        "  img = image.load_img(path, target_size=(224, 224))\n",
        "  i = image.img_to_array(img)\n",
        "  i = np.expand_dims(i, axis=0)\n",
        "  img = preprocess_input(i)\n",
        "  pred = np.argmax(model.predict(img), axis=1)\n",
        "  print(f\"the image belongs to {[pred[0]]}\")\n",
        "\n",
        "path = r\"dataset\\test\\ModerateDemented\\10.jpg\"\n",
        "prediction(path)\n",
        "\n",
        "# {'MildDemented': 0,\n",
        "#  'ModerateDemented': 1,\n",
        "#  'NonDemented': 2,\n",
        "#  'VeryMildDemented': 3}\n",
        "\n"
      ]
    },
    {
      "cell_type": "code",
      "execution_count": null,
      "metadata": {},
      "outputs": [],
      "source": [
        "# prediction with display images"
      ]
    },
    {
      "cell_type": "code",
      "execution_count": null,
      "metadata": {},
      "outputs": [
        {
          "name": "stdout",
          "output_type": "stream",
          "text": [
            "1/1 [==============================] - 1s 1s/step\n"
          ]
        },
        {
          "data": {
            "image/png": "[encoded data removed]",
            "text/plain": [
              "<Figure size 640x480 with 1 Axes>"
            ]
          },
          "metadata": {},
          "output_type": "display_data"
        }
      ],
      "source": [
        "from tensorflow.keras.preprocessing import image\n",
        "from tensorflow.keras.applications.inception_v3 import preprocess_input\n",
        "import matplotlib.pyplot as plt\n",
        "import numpy as np\n",
        "from tensorflow.keras.models import load_model\n",
        "model=load_model(r\"model_alzheimer.h5\")\n",
        "\n",
        "def predict_and_display(image_path, model, class_labels):\n",
        "    \n",
        "    img = image.load_img(image_path, target_size=(224, 224))\n",
        "    img_array = image.img_to_array(img)\n",
        "    img_array = np.expand_dims(img_array, axis=0)\n",
        "    img_array = preprocess_input(img_array)\n",
        "\n",
        "    prediction = model.predict(img_array)\n",
        "    predicted_class_index = np.argmax(prediction)\n",
        "    \n",
        "    predicted_class_label = class_labels[predicted_class_index]\n",
        "    \n",
        "    plt.imshow(img)\n",
        "    plt.axis('off')\n",
        "    plt.title(f\"The Alzheimer is: {predicted_class_label}\")\n",
        "    plt.show()\n",
        "\n",
        "# Load your trained model\n",
        "# model.load_weights('model_maleria.h5')\n",
        "\n",
        "# Define your class labels (e.g., ['car', 'truck', ...])\n",
        "class_labels = ['MildDemented', 'ModerateDemented',  'NonDemented', 'VeryMildDemented']\n",
        "\n",
        "# Replace 'path_to_test_image' with the path to the image you want to test\n",
        "path = r\"dataset\\test\\ModerateDemented\\10.jpg\"\n",
        "predict_and_display(path, model, class_labels)"
      ]
    },
    {
      "cell_type": "code",
      "execution_count": null,
      "metadata": {},
      "outputs": [],
      "source": []
    }
  ],
  "metadata": {
    "accelerator": "GPU",
    "colab": {
      "gpuType": "T4",
      "provenance": []
    },
    "kernelspec": {
      "display_name": "Python 3",
      "name": "python3"
    },
    "language_info": {
      "codemirror_mode": {
        "name": "ipython",
        "version": 3
      },
      "file_extension": ".py",
      "mimetype": "text/x-python",
      "name": "python",
      "nbconvert_exporter": "python",
      "pygments_lexer": "ipython3",
      "version": "3.10.12"
    }
  },
  "nbformat": 4,
  "nbformat_minor": 0
}
